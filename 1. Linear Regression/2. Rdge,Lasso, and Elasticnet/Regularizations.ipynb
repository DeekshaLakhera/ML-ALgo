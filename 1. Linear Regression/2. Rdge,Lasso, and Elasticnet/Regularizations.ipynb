{
 "cells": [
  {
   "cell_type": "raw",
   "id": "528e6677",
   "metadata": {},
   "source": [
    "Why use?\n",
    "To reduce overfitting"
   ]
  },
  {
   "cell_type": "code",
   "execution_count": 1,
   "id": "d7696fa5",
   "metadata": {},
   "outputs": [],
   "source": [
    "from sklearn.datasets import load_diabetes\n",
    "from sklearn.linear_model import LinearRegression,Ridge,Lasso,ElasticNet\n",
    "from sklearn.model_selection import train_test_split\n",
    "from sklearn.metrics import r2_score"
   ]
  },
  {
   "cell_type": "code",
   "execution_count": 2,
   "id": "1c9b70fc",
   "metadata": {},
   "outputs": [],
   "source": [
    "X,y = load_diabetes(return_X_y=True)"
   ]
  },
  {
   "cell_type": "code",
   "execution_count": 3,
   "id": "5a88b991",
   "metadata": {},
   "outputs": [],
   "source": [
    "X_train,X_test,y_train,y_test = train_test_split(X,y,test_size=0.2,random_state=2)"
   ]
  },
  {
   "cell_type": "code",
   "execution_count": 4,
   "id": "81effd3d",
   "metadata": {},
   "outputs": [
    {
     "data": {
      "text/plain": [
       "0.4399387660024645"
      ]
     },
     "execution_count": 4,
     "metadata": {},
     "output_type": "execute_result"
    }
   ],
   "source": [
    "# Linear Regression\n",
    "reg = LinearRegression()\n",
    "reg.fit(X_train,y_train)\n",
    "y_pred = reg.predict(X_test)\n",
    "r2_score(y_test,y_pred)"
   ]
  },
  {
   "cell_type": "markdown",
   "id": "bfba54ee",
   "metadata": {},
   "source": [
    "### Ridge"
   ]
  },
  {
   "cell_type": "raw",
   "id": "803c68e0",
   "metadata": {},
   "source": [
    "# L2 norm\n",
    "# Ridge -----> loss function + λ(m^2)\n",
    "# sum(yi-yihat)^2 + λ(m^2)"
   ]
  },
  {
   "cell_type": "raw",
   "id": "fec2f80e",
   "metadata": {},
   "source": [
    "λ -----> ꚙ\n",
    "coefficient -----> 0 (bt value will never 0) or we can say coefficients will be shrink\n",
    "\n",
    "When to use ? \n",
    "        when input column>2"
   ]
  },
  {
   "cell_type": "raw",
   "id": "76a92f36",
   "metadata": {},
   "source": [
    "Impact on Bias and Variance.\n",
    "    λ++ -> bias ++ and variance --\n",
    "    λ-- -> bias -- and variance ++"
   ]
  },
  {
   "cell_type": "code",
   "execution_count": 5,
   "id": "f54d6aaa",
   "metadata": {},
   "outputs": [
    {
     "data": {
      "text/plain": [
       "0.4519973816947853"
      ]
     },
     "execution_count": 5,
     "metadata": {},
     "output_type": "execute_result"
    }
   ],
   "source": [
    "reg = Ridge(alpha=0.1)\n",
    "reg.fit(X_train,y_train)\n",
    "y_pred = reg.predict(X_test)\n",
    "r2_score(y_test,y_pred)"
   ]
  },
  {
   "cell_type": "markdown",
   "id": "b36a00b8",
   "metadata": {},
   "source": [
    "### Lasso"
   ]
  },
  {
   "cell_type": "raw",
   "id": "c59487d0",
   "metadata": {},
   "source": [
    "# L1 norm\n",
    "# Lasso ------> loss function + λ|m| -----> MSE + λ|m| \n",
    "# sum(yi-yihat)^2 + λ|m|"
   ]
  },
  {
   "cell_type": "raw",
   "id": "ecb0ac7f",
   "metadata": {},
   "source": [
    "λ -----> ꚙ\n",
    "coefficient -----> 0 (can be 0) \n",
    "\n",
    "Advantage:\n",
    "    ndim = ꚙ\n",
    "    overfitting = high\n",
    "using L1 we can elemenates the columns as for some value λ our coefficient will 0\n",
    "So it becomes the Feature Selection Technique\n",
    "\n",
    "Note - > Lasso creates Sparsity"
   ]
  },
  {
   "cell_type": "raw",
   "id": "e1327a9e",
   "metadata": {},
   "source": [
    "Impact on Bias and Variance.\n",
    "    λ++ -> bias ++ and variance --\n",
    "    λ-- -> bias -- and variance ++"
   ]
  },
  {
   "cell_type": "code",
   "execution_count": 6,
   "id": "af8a3bfd",
   "metadata": {},
   "outputs": [
    {
     "data": {
      "text/plain": [
       "0.4411227990495632"
      ]
     },
     "execution_count": 6,
     "metadata": {},
     "output_type": "execute_result"
    }
   ],
   "source": [
    "reg = Lasso(alpha=0.01)\n",
    "reg.fit(X_train,y_train)\n",
    "y_pred = reg.predict(X_test)\n",
    "r2_score(y_test,y_pred)"
   ]
  },
  {
   "cell_type": "code",
   "execution_count": 7,
   "id": "741f1523",
   "metadata": {},
   "outputs": [
    {
     "data": {
      "text/plain": [
       "0.4531493801165679"
      ]
     },
     "execution_count": 7,
     "metadata": {},
     "output_type": "execute_result"
    }
   ],
   "source": [
    "# ElasticNet\n",
    "reg = ElasticNet(alpha=0.005,l1_ratio=0.9)\n",
    "reg.fit(X_train,y_train)\n",
    "y_pred = reg.predict(X_test)\n",
    "r2_score(y_test,y_pred)"
   ]
  },
  {
   "cell_type": "code",
   "execution_count": null,
   "id": "27d9ca39",
   "metadata": {},
   "outputs": [],
   "source": []
  }
 ],
 "metadata": {
  "kernelspec": {
   "display_name": "Python 3",
   "language": "python",
   "name": "python3"
  },
  "language_info": {
   "codemirror_mode": {
    "name": "ipython",
    "version": 3
   },
   "file_extension": ".py",
   "mimetype": "text/x-python",
   "name": "python",
   "nbconvert_exporter": "python",
   "pygments_lexer": "ipython3",
   "version": "3.8.8"
  }
 },
 "nbformat": 4,
 "nbformat_minor": 5
}
